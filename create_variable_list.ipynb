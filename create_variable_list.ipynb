{
 "cells": [
  {
   "cell_type": "code",
   "execution_count": null,
   "id": "63e59b5c",
   "metadata": {},
   "outputs": [],
   "source": [
    "# only variable list can be created. A tuple cannot be created for variables.\n",
    "\n",
    "name = ['Harry', 'Ron', 'Dumbledore', 'Hagrid', 'Sirius', 'Prof. Snape']\n",
    "act = ['Auror', 'Magician', \"Principle\", \"Door Keeper\", 'Godfather of Harry Potter', 'Potion Master']"
   ]
  },
  {
   "cell_type": "code",
   "execution_count": null,
   "id": "bdcffc7f",
   "metadata": {},
   "outputs": [],
   "source": [
    "# This block of code can be used to create a \"Dictionary\". \n",
    "# After this, if we call any item from name, it will give its corresponding value from act.\n",
    "\n",
    "for x, y in zip(name, act):\n",
    "    globals()[x] = y"
   ]
  },
  {
   "cell_type": "code",
   "execution_count": null,
   "id": "a0128d34",
   "metadata": {},
   "outputs": [],
   "source": [
    "print(Harry)"
   ]
  }
 ],
 "metadata": {
  "kernelspec": {
   "display_name": "Python 3",
   "language": "python",
   "name": "python3"
  },
  "language_info": {
   "codemirror_mode": {
    "name": "ipython",
    "version": 3
   },
   "file_extension": ".py",
   "mimetype": "text/x-python",
   "name": "python",
   "nbconvert_exporter": "python",
   "pygments_lexer": "ipython3",
   "version": "3.9.2"
  }
 },
 "nbformat": 4,
 "nbformat_minor": 5
}
