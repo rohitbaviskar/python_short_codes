{
 "cells": [
  {
   "cell_type": "code",
   "execution_count": null,
   "id": "8df0c228",
   "metadata": {},
   "outputs": [],
   "source": [
    "plus = (-1, 2, 3)"
   ]
  },
  {
   "cell_type": "code",
   "execution_count": null,
   "id": "9237d161",
   "metadata": {},
   "outputs": [],
   "source": [
    "s = 0\n",
    "\n",
    "for i in plus:\n",
    "    if i >= 0:\n",
    "        s = s + i"
   ]
  },
  {
   "cell_type": "code",
   "execution_count": null,
   "id": "6032eaf0",
   "metadata": {},
   "outputs": [],
   "source": [
    "print(s)"
   ]
  }
 ],
 "metadata": {
  "kernelspec": {
   "display_name": "Python 3",
   "language": "python",
   "name": "python3"
  },
  "language_info": {
   "codemirror_mode": {
    "name": "ipython",
    "version": 3
   },
   "file_extension": ".py",
   "mimetype": "text/x-python",
   "name": "python",
   "nbconvert_exporter": "python",
   "pygments_lexer": "ipython3",
   "version": "3.9.2"
  }
 },
 "nbformat": 4,
 "nbformat_minor": 5
}
