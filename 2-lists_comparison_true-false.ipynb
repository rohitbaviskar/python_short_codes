{
 "cells": [
  {
   "cell_type": "code",
   "execution_count": null,
   "id": "d8de905a",
   "metadata": {},
   "outputs": [],
   "source": [
    "perc = [85, 83, 85, 93]\n",
    "mini = [70, 70, 70, 92]\n",
    "comp = []\n",
    "\n",
    "\n",
    "for j in range(0,4): \n",
    "    comp.append(perc[j] >= mini[j]) \n",
    "\n",
    "if all(comp) == True:\n",
    "    print(\"Selected\")\n",
    "else:\n",
    "    print(\"Rejected\")"
   ]
  }
 ],
 "metadata": {
  "kernelspec": {
   "display_name": "Python 3",
   "language": "python",
   "name": "python3"
  },
  "language_info": {
   "codemirror_mode": {
    "name": "ipython",
    "version": 3
   },
   "file_extension": ".py",
   "mimetype": "text/x-python",
   "name": "python",
   "nbconvert_exporter": "python",
   "pygments_lexer": "ipython3",
   "version": "3.9.2"
  }
 },
 "nbformat": 4,
 "nbformat_minor": 5
}
