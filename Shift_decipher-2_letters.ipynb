{
 "cells": [
  {
   "cell_type": "code",
   "execution_count": 9,
   "id": "e716617d",
   "metadata": {},
   "outputs": [],
   "source": [
    "import string\n",
    "\n",
    "text = \"g fmnc wms bgblr rpylqjyrc gr zw fylb. rfyrq ufyr amknsrcpq ypc dmp. \" \\\n",
    "       \"bmgle gr gl zw fylb gq glcddgagclr ylb rfyr'q ufw rfgq rcvr gq qm jmle. \" \\\n",
    "       \"sqgle qrpgle.kyicrpylq() gq pcamkkclbcb. lmu ynnjw ml rfc spj.\""
   ]
  },
  {
   "cell_type": "code",
   "execution_count": 10,
   "id": "bbe1ee39",
   "metadata": {},
   "outputs": [],
   "source": [
    "# define initial string, then define what that would be.\n",
    "\n",
    "decip = text.maketrans(string.ascii_lowercase, string.ascii_lowercase[2:]+string.ascii_lowercase[:2])"
   ]
  },
  {
   "cell_type": "code",
   "execution_count": 11,
   "id": "a5e3ff31",
   "metadata": {},
   "outputs": [],
   "source": [
    "new_text = text.translate(decip)"
   ]
  },
  {
   "cell_type": "code",
   "execution_count": 12,
   "id": "8160e2b2",
   "metadata": {},
   "outputs": [
    {
     "name": "stdout",
     "output_type": "stream",
     "text": [
      "i hope you didnt translate it by hand. thats what computers are for. doing it in by hand is inefficient and that's why this text is so long. using string.maketrans() is recommended. now apply on the url.\n"
     ]
    }
   ],
   "source": [
    "print(new_text)"
   ]
  },
  {
   "cell_type": "markdown",
   "id": "0d7bf09c",
   "metadata": {},
   "source": [
    "### Solution\n",
    "\n",
    "i hope you didnt translate it by hand. thats what computers are for. doing it in by hand is inefficient and that's why this text is so long. using string.maketrans() is recommended. now apply on the url."
   ]
  }
 ],
 "metadata": {
  "kernelspec": {
   "display_name": "Python 3",
   "language": "python",
   "name": "python3"
  },
  "language_info": {
   "codemirror_mode": {
    "name": "ipython",
    "version": 3
   },
   "file_extension": ".py",
   "mimetype": "text/x-python",
   "name": "python",
   "nbconvert_exporter": "python",
   "pygments_lexer": "ipython3",
   "version": "3.9.2"
  }
 },
 "nbformat": 4,
 "nbformat_minor": 5
}
